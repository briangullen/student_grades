{
 "cells": [
  {
   "cell_type": "markdown",
   "id": "364904bc-a51c-417c-a82f-a3ba37b4dce1",
   "metadata": {
    "jp-MarkdownHeadingCollapsed": true
   },
   "source": [
    "## Table of Contents\n",
    "* [Question 1](#Question1)\n",
    "* [Question 2](#Question2)\n",
    "* [Question 3](#Question3)"
   ]
  },
  {
   "cell_type": "code",
   "execution_count": 183,
   "id": "416c77f7-4f4b-409f-93b1-5bb6a7c80e19",
   "metadata": {},
   "outputs": [],
   "source": [
    "import numpy as np\n",
    "import statistics as stats\n",
    "import pandas as pd"
   ]
  },
  {
   "cell_type": "code",
   "execution_count": 184,
   "id": "0f42f848-f7b7-4085-baf7-e1bf7955920b",
   "metadata": {},
   "outputs": [
    {
     "data": {
      "text/html": [
       "<div>\n",
       "<style scoped>\n",
       "    .dataframe tbody tr th:only-of-type {\n",
       "        vertical-align: middle;\n",
       "    }\n",
       "\n",
       "    .dataframe tbody tr th {\n",
       "        vertical-align: top;\n",
       "    }\n",
       "\n",
       "    .dataframe thead th {\n",
       "        text-align: right;\n",
       "    }\n",
       "</style>\n",
       "<table border=\"1\" class=\"dataframe\">\n",
       "  <thead>\n",
       "    <tr style=\"text-align: right;\">\n",
       "      <th></th>\n",
       "      <th>Name</th>\n",
       "      <th>Math</th>\n",
       "      <th>Science</th>\n",
       "      <th>Reading</th>\n",
       "      <th>History</th>\n",
       "    </tr>\n",
       "  </thead>\n",
       "  <tbody>\n",
       "    <tr>\n",
       "      <th>0</th>\n",
       "      <td>Adam</td>\n",
       "      <td>11.0</td>\n",
       "      <td>9.0</td>\n",
       "      <td>16.0</td>\n",
       "      <td>13.5</td>\n",
       "    </tr>\n",
       "    <tr>\n",
       "      <th>1</th>\n",
       "      <td>Anna</td>\n",
       "      <td>12.0</td>\n",
       "      <td>11.0</td>\n",
       "      <td>8.5</td>\n",
       "      <td>10.0</td>\n",
       "    </tr>\n",
       "    <tr>\n",
       "      <th>2</th>\n",
       "      <td>James</td>\n",
       "      <td>11.0</td>\n",
       "      <td>18.0</td>\n",
       "      <td>11.5</td>\n",
       "      <td>9.0</td>\n",
       "    </tr>\n",
       "    <tr>\n",
       "      <th>3</th>\n",
       "      <td>Corey</td>\n",
       "      <td>7.0</td>\n",
       "      <td>15.5</td>\n",
       "      <td>11.0</td>\n",
       "      <td>14.0</td>\n",
       "    </tr>\n",
       "    <tr>\n",
       "      <th>4</th>\n",
       "      <td>Alisha</td>\n",
       "      <td>9.5</td>\n",
       "      <td>12.0</td>\n",
       "      <td>10.5</td>\n",
       "      <td>14.0</td>\n",
       "    </tr>\n",
       "    <tr>\n",
       "      <th>5</th>\n",
       "      <td>Jodie</td>\n",
       "      <td>15.0</td>\n",
       "      <td>18.5</td>\n",
       "      <td>7.0</td>\n",
       "      <td>12.0</td>\n",
       "    </tr>\n",
       "    <tr>\n",
       "      <th>6</th>\n",
       "      <td>John</td>\n",
       "      <td>18.0</td>\n",
       "      <td>15.5</td>\n",
       "      <td>11.0</td>\n",
       "      <td>7.5</td>\n",
       "    </tr>\n",
       "  </tbody>\n",
       "</table>\n",
       "</div>"
      ],
      "text/plain": [
       "     Name  Math  Science  Reading  History\n",
       "0    Adam  11.0      9.0     16.0     13.5\n",
       "1    Anna  12.0     11.0      8.5     10.0\n",
       "2   James  11.0     18.0     11.5      9.0\n",
       "3   Corey   7.0     15.5     11.0     14.0\n",
       "4  Alisha   9.5     12.0     10.5     14.0\n",
       "5   Jodie  15.0     18.5      7.0     12.0\n",
       "6    John  18.0     15.5     11.0      7.5"
      ]
     },
     "execution_count": 184,
     "metadata": {},
     "output_type": "execute_result"
    }
   ],
   "source": [
    "df = pd.read_csv('student-data.csv')\n",
    "df"
   ]
  },
  {
   "cell_type": "code",
   "execution_count": 185,
   "id": "1cfc9670-822e-4a4b-a531-884122fdaf9e",
   "metadata": {},
   "outputs": [],
   "source": [
    "name = ['Adam', 'Anna', 'James', 'Corey', 'Alisa', 'Jodie', 'John']\n",
    "math = [11, 12, 11, 7, 9.5, 15, 18]\n",
    "science = [9, 11, 18, 15.5, 12, 18.5, 15.5]\n",
    "reading = [16, 8.5, 11.5, 11, 10.5, 7, 11]\n",
    "history = [13.5, 10, 9, 14, 14, 12, 7.5]"
   ]
  },
  {
   "cell_type": "markdown",
   "id": "27198832-90c8-4ee9-8adf-ab68a7642d13",
   "metadata": {},
   "source": [
    "## Question 1: <a class=\"anchor\" id=\"Question1\"></a>"
   ]
  },
  {
   "cell_type": "code",
   "execution_count": 187,
   "id": "550b985d-38c0-4d44-ade2-89a4385515d4",
   "metadata": {},
   "outputs": [
    {
     "name": "stdout",
     "output_type": "stream",
     "text": [
      "The means for each subject are:\n",
      "Math: 11.928571428571429\n",
      "Science: 14.214285714285714\n",
      "Reading: 10.785714285714286\n",
      "History: 11.428571428571429\n"
     ]
    }
   ],
   "source": [
    "math_mean = np.mean(math)\n",
    "science_mean = np.mean(science)\n",
    "reading_mean = np.mean(reading)\n",
    "history_mean = np.mean(history)\n",
    "print(f\"The means for each subject are:\\nMath: {math_mean}\\nScience: {science_mean}\\nReading: {reading_mean}\\nHistory: {history_mean}\")"
   ]
  },
  {
   "cell_type": "code",
   "execution_count": 188,
   "id": "77a4a0ba-908e-45f4-b50a-a07f6a3204f0",
   "metadata": {},
   "outputs": [
    {
     "name": "stdout",
     "output_type": "stream",
     "text": [
      "The median math grade is: 11.0\n"
     ]
    }
   ],
   "source": [
    "median_math = np.median(math)\n",
    "print(f\"The median math grade is: {median_math}\")"
   ]
  },
  {
   "cell_type": "code",
   "execution_count": 189,
   "id": "7ae4effa-d36a-482a-901a-4fa0650a5438",
   "metadata": {},
   "outputs": [
    {
     "name": "stdout",
     "output_type": "stream",
     "text": [
      "Mode for History: 14\n"
     ]
    }
   ],
   "source": [
    "mode_history = stats.mode(history)\n",
    "print(f\"Mode for History: {mode_history}\")"
   ]
  },
  {
   "cell_type": "markdown",
   "id": "ba5ea463-045d-4e5e-ad97-c7a07db18b2f",
   "metadata": {},
   "source": [
    "## Question 2: <a class=\"anchor\" id=\"Question2\"></a>"
   ]
  },
  {
   "cell_type": "code",
   "execution_count": 191,
   "id": "8a25e007-b207-440b-82da-3adadecbb8d0",
   "metadata": {},
   "outputs": [
    {
     "data": {
      "text/plain": [
       "0.2694940962141907"
      ]
     },
     "execution_count": 191,
     "metadata": {},
     "output_type": "execute_result"
    }
   ],
   "source": [
    "corrcoef_math_science = np.corrcoef(math, science)[0, 1]\n",
    "corrcoef_math_science "
   ]
  },
  {
   "cell_type": "code",
   "execution_count": 192,
   "id": "84969276-d462-45b0-ae0c-022f6406fa0d",
   "metadata": {},
   "outputs": [
    {
     "data": {
      "text/plain": [
       "-0.7183583464149538"
      ]
     },
     "execution_count": 192,
     "metadata": {},
     "output_type": "execute_result"
    }
   ],
   "source": [
    "corrcoef_math_history = np.corrcoef(math, history)[0, 1]\n",
    "corrcoef_math_history"
   ]
  },
  {
   "cell_type": "code",
   "execution_count": 193,
   "id": "ebe50473-ae1c-4a64-afdd-d47e9d282f51",
   "metadata": {},
   "outputs": [
    {
     "data": {
      "text/plain": [
       "-0.5276058297032529"
      ]
     },
     "execution_count": 193,
     "metadata": {},
     "output_type": "execute_result"
    }
   ],
   "source": [
    "corrcoef_science_reading = np.corrcoef(science, reading)[0, 1]\n",
    "corrcoef_science_reading"
   ]
  },
  {
   "cell_type": "code",
   "execution_count": 194,
   "id": "283557da-6aa0-4e00-8f64-c59b7532fcd0",
   "metadata": {},
   "outputs": [
    {
     "data": {
      "text/plain": [
       "-0.35868815565295303"
      ]
     },
     "execution_count": 194,
     "metadata": {},
     "output_type": "execute_result"
    }
   ],
   "source": [
    "corrcoef_science_history = np.corrcoef(science, history)[0, 1]\n",
    "corrcoef_science_history"
   ]
  },
  {
   "cell_type": "code",
   "execution_count": 195,
   "id": "d824bebe-e9a8-4b0c-a1e9-676ec8e37c2e",
   "metadata": {},
   "outputs": [
    {
     "data": {
      "text/plain": [
       "0.20679404264832346"
      ]
     },
     "execution_count": 195,
     "metadata": {},
     "output_type": "execute_result"
    }
   ],
   "source": [
    "corrcoef_reading_history = np.corrcoef(reading, history)[0, 1]\n",
    "corrcoef_reading_history"
   ]
  },
  {
   "cell_type": "markdown",
   "id": "c0436d31-7446-458b-be50-f87473872abe",
   "metadata": {},
   "source": [
    "### Answer\n",
    "* Math and history have the strongest correlation coefficient at -0.718"
   ]
  },
  {
   "cell_type": "markdown",
   "id": "a2c47a76-e8ff-420a-ab4c-39533724cc15",
   "metadata": {},
   "source": [
    "## Question 3: <a class=\"anchor\" id=\"Question3\"></a>"
   ]
  },
  {
   "cell_type": "code",
   "execution_count": 198,
   "id": "7e306d2f-920b-4821-8660-791370e5b3d2",
   "metadata": {},
   "outputs": [
    {
     "name": "stdout",
     "output_type": "stream",
     "text": [
      "Mean: 59.47826086956522\n",
      "Median: 60.0\n",
      "Mode: 60\n",
      "Min: 5\n",
      "Max: 99\n",
      "Range: 94\n",
      "Variance: 694.3517786561265\n",
      "Standard Deviation: 26.350555566365703\n"
     ]
    }
   ],
   "source": [
    "import math\n",
    "math_grades = [24, 5, 15, 60, 54, 82, 99, 80, 70, 98, 93, 60, 33, 22, 65, 61, 51, 58, 83, 86, 42, 67, 60]\n",
    "def desc_stats():\n",
    "    grades_mean = np.mean(math_grades)\n",
    "    grades_median = np.median(math_grades)\n",
    "    grades_mode = stats.mode(math_grades)\n",
    "    grades_min = np.min(math_grades)\n",
    "    grades_max = np.max(math_grades)\n",
    "    grades_range = grades_max - grades_min\n",
    "    grades_var = stats.variance(math_grades)\n",
    "    grades_std_dev = math.sqrt(grades_var)\n",
    "    print(f\"Mean: {grades_mean}\\nMedian: {grades_median}\\nMode: {grades_mode}\\nMin: {grades_min}\\nMax: {grades_max}\\nRange: {grades_range}\\nVariance: {grades_var}\\nStandard Deviation: {grades_std_dev}\")\n",
    "\n",
    "desc_stats()"
   ]
  },
  {
   "cell_type": "code",
   "execution_count": null,
   "id": "0e394b6f-8766-4cc5-92be-ea7d3ffbd9df",
   "metadata": {},
   "outputs": [],
   "source": []
  }
 ],
 "metadata": {
  "kernelspec": {
   "display_name": "Python 3 (ipykernel)",
   "language": "python",
   "name": "python3"
  },
  "language_info": {
   "codemirror_mode": {
    "name": "ipython",
    "version": 3
   },
   "file_extension": ".py",
   "mimetype": "text/x-python",
   "name": "python",
   "nbconvert_exporter": "python",
   "pygments_lexer": "ipython3",
   "version": "3.11.7"
  }
 },
 "nbformat": 4,
 "nbformat_minor": 5
}
