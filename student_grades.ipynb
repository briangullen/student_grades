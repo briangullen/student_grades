{
 "cells": [
  {
   "cell_type": "markdown",
   "id": "364904bc-a51c-417c-a82f-a3ba37b4dce1",
   "metadata": {},
   "source": [
    "## Table of Contents\n",
    "* [Question 1](#Question1)\n",
    "* [Question 2](#Question2)\n",
    "* [Question 3](#Question3)\n",
    "* [Extended Challenge](#ExtendedChallenge)"
   ]
  },
  {
   "cell_type": "code",
   "execution_count": 225,
   "id": "416c77f7-4f4b-409f-93b1-5bb6a7c80e19",
   "metadata": {},
   "outputs": [],
   "source": [
    "import numpy as np\n",
    "import statistics as stats\n",
    "import pandas as pd"
   ]
  },
  {
   "cell_type": "code",
   "execution_count": 226,
   "id": "1cfc9670-822e-4a4b-a531-884122fdaf9e",
   "metadata": {},
   "outputs": [],
   "source": [
    "name = ['Adam', 'Anna', 'James', 'Corey', 'Alisa', 'Jodie', 'John']\n",
    "math = [11, 12, 11, 7, 9.5, 15, 18]\n",
    "science = [9, 11, 18, 15.5, 12, 18.5, 15.5]\n",
    "reading = [16, 8.5, 11.5, 11, 10.5, 7, 11]\n",
    "history = [13.5, 10, 9, 14, 14, 12, 7.5]"
   ]
  },
  {
   "cell_type": "markdown",
   "id": "27198832-90c8-4ee9-8adf-ab68a7642d13",
   "metadata": {},
   "source": [
    "## Question 1: <a class=\"anchor\" id=\"Question1\"></a>"
   ]
  },
  {
   "cell_type": "code",
   "execution_count": 228,
   "id": "550b985d-38c0-4d44-ade2-89a4385515d4",
   "metadata": {},
   "outputs": [
    {
     "name": "stdout",
     "output_type": "stream",
     "text": [
      "The means for each subject are:\n",
      "Math: 11.928571428571429\n",
      "Science: 14.214285714285714\n",
      "Reading: 10.785714285714286\n",
      "History: 11.428571428571429\n"
     ]
    }
   ],
   "source": [
    "math_mean = np.mean(math)\n",
    "science_mean = np.mean(science)\n",
    "reading_mean = np.mean(reading)\n",
    "history_mean = np.mean(history)\n",
    "print(f\"The means for each subject are:\\nMath: {math_mean}\\nScience: {science_mean}\\nReading: {reading_mean}\\nHistory: {history_mean}\")"
   ]
  },
  {
   "cell_type": "code",
   "execution_count": 229,
   "id": "77a4a0ba-908e-45f4-b50a-a07f6a3204f0",
   "metadata": {},
   "outputs": [
    {
     "name": "stdout",
     "output_type": "stream",
     "text": [
      "The median math grade is: 11.0\n"
     ]
    }
   ],
   "source": [
    "median_math = np.median(math)\n",
    "print(f\"The median math grade is: {median_math}\")"
   ]
  },
  {
   "cell_type": "code",
   "execution_count": 230,
   "id": "7ae4effa-d36a-482a-901a-4fa0650a5438",
   "metadata": {},
   "outputs": [
    {
     "name": "stdout",
     "output_type": "stream",
     "text": [
      "Mode for History: 14\n"
     ]
    }
   ],
   "source": [
    "mode_history = stats.mode(history)\n",
    "print(f\"Mode for History: {mode_history}\")"
   ]
  },
  {
   "cell_type": "markdown",
   "id": "ba5ea463-045d-4e5e-ad97-c7a07db18b2f",
   "metadata": {},
   "source": [
    "## Question 2: <a class=\"anchor\" id=\"Question2\"></a>"
   ]
  },
  {
   "cell_type": "code",
   "execution_count": 232,
   "id": "6895f16e-5487-46aa-be1b-17e777a159bc",
   "metadata": {},
   "outputs": [
    {
     "data": {
      "text/html": [
       "<div>\n",
       "<style scoped>\n",
       "    .dataframe tbody tr th:only-of-type {\n",
       "        vertical-align: middle;\n",
       "    }\n",
       "\n",
       "    .dataframe tbody tr th {\n",
       "        vertical-align: top;\n",
       "    }\n",
       "\n",
       "    .dataframe thead th {\n",
       "        text-align: right;\n",
       "    }\n",
       "</style>\n",
       "<table border=\"1\" class=\"dataframe\">\n",
       "  <thead>\n",
       "    <tr style=\"text-align: right;\">\n",
       "      <th></th>\n",
       "      <th>Math</th>\n",
       "      <th>Science</th>\n",
       "      <th>Reading</th>\n",
       "      <th>History</th>\n",
       "    </tr>\n",
       "  </thead>\n",
       "  <tbody>\n",
       "    <tr>\n",
       "      <th>Math</th>\n",
       "      <td>1.000000</td>\n",
       "      <td>0.269494</td>\n",
       "      <td>-0.268562</td>\n",
       "      <td>-0.718358</td>\n",
       "    </tr>\n",
       "    <tr>\n",
       "      <th>Science</th>\n",
       "      <td>0.269494</td>\n",
       "      <td>1.000000</td>\n",
       "      <td>-0.527606</td>\n",
       "      <td>-0.358688</td>\n",
       "    </tr>\n",
       "    <tr>\n",
       "      <th>Reading</th>\n",
       "      <td>-0.268562</td>\n",
       "      <td>-0.527606</td>\n",
       "      <td>1.000000</td>\n",
       "      <td>0.206794</td>\n",
       "    </tr>\n",
       "    <tr>\n",
       "      <th>History</th>\n",
       "      <td>-0.718358</td>\n",
       "      <td>-0.358688</td>\n",
       "      <td>0.206794</td>\n",
       "      <td>1.000000</td>\n",
       "    </tr>\n",
       "  </tbody>\n",
       "</table>\n",
       "</div>"
      ],
      "text/plain": [
       "             Math   Science   Reading   History\n",
       "Math     1.000000  0.269494 -0.268562 -0.718358\n",
       "Science  0.269494  1.000000 -0.527606 -0.358688\n",
       "Reading -0.268562 -0.527606  1.000000  0.206794\n",
       "History -0.718358 -0.358688  0.206794  1.000000"
      ]
     },
     "execution_count": 232,
     "metadata": {},
     "output_type": "execute_result"
    }
   ],
   "source": [
    "df_grades = pd.read_csv('student-data.csv')\n",
    "df_grades[['Math', 'Science', 'Reading', 'History']].corr()"
   ]
  },
  {
   "cell_type": "markdown",
   "id": "c0436d31-7446-458b-be50-f87473872abe",
   "metadata": {},
   "source": [
    "### Answer\n",
    "* Math and history have the strongest correlation coefficient at -0.718"
   ]
  },
  {
   "cell_type": "markdown",
   "id": "a2c47a76-e8ff-420a-ab4c-39533724cc15",
   "metadata": {},
   "source": [
    "## Question 3: <a class=\"anchor\" id=\"Question3\"></a>"
   ]
  },
  {
   "cell_type": "code",
   "execution_count": 235,
   "id": "7e306d2f-920b-4821-8660-791370e5b3d2",
   "metadata": {},
   "outputs": [
    {
     "name": "stdout",
     "output_type": "stream",
     "text": [
      "Mean: 59.47826086956522\n",
      "Median: 60.0\n",
      "Mode: 60\n",
      "Min: 5\n",
      "Max: 99\n",
      "Range: 94\n",
      "Variance: 694.3517786561265\n",
      "Standard Deviation: 26.350555566365703\n"
     ]
    }
   ],
   "source": [
    "import math\n",
    "math_grades = [24, 5, 15, 60, 54, 82, 99, 80, 70, 98, 93, 60, 33, 22, 65, 61, 51, 58, 83, 86, 42, 67, 60]\n",
    "def desc_stats():\n",
    "    grades_mean = np.mean(math_grades)\n",
    "    grades_median = np.median(math_grades)\n",
    "    grades_mode = stats.mode(math_grades)\n",
    "    grades_min = np.min(math_grades)\n",
    "    grades_max = np.max(math_grades)\n",
    "    grades_range = grades_max - grades_min\n",
    "    grades_var = stats.variance(math_grades)\n",
    "    grades_std_dev = math.sqrt(grades_var)\n",
    "    print(f\"Mean: {grades_mean}\\nMedian: {grades_median}\\nMode: {grades_mode}\\nMin: {grades_min}\\nMax: {grades_max}\\nRange: {grades_range}\\nVariance: {grades_var}\\nStandard Deviation: {grades_std_dev}\")\n",
    "\n",
    "desc_stats()"
   ]
  },
  {
   "cell_type": "markdown",
   "id": "36f1b0f3-0d17-4869-b0a3-944b38f53bf3",
   "metadata": {},
   "source": [
    "## Extended Challenge: <a class=\"anchor\" id=\"ExtendedChallenge\"></a>"
   ]
  },
  {
   "cell_type": "markdown",
   "id": "0a1ae86f-3c14-4419-a70d-6d61e267f776",
   "metadata": {},
   "source": [
    "* Given the range of scores is quite dramatic and a high standard deviation I would curve the results. Specifically while there are both high and low outliers which screw the median, the both the mode and median are 60, which is an \"F\" grade."
   ]
  },
  {
   "cell_type": "code",
   "execution_count": null,
   "id": "494a5c8a-0513-4c5f-95c7-596c7ab436fa",
   "metadata": {},
   "outputs": [],
   "source": []
  }
 ],
 "metadata": {
  "kernelspec": {
   "display_name": "Python 3 (ipykernel)",
   "language": "python",
   "name": "python3"
  },
  "language_info": {
   "codemirror_mode": {
    "name": "ipython",
    "version": 3
   },
   "file_extension": ".py",
   "mimetype": "text/x-python",
   "name": "python",
   "nbconvert_exporter": "python",
   "pygments_lexer": "ipython3",
   "version": "3.11.7"
  }
 },
 "nbformat": 4,
 "nbformat_minor": 5
}
